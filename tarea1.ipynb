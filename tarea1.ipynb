{
 "cells": [
  {
   "cell_type": "code",
   "execution_count": 5,
   "metadata": {},
   "outputs": [
    {
     "data": {
      "text/html": [
       "<!-- Mejorar visualización en proyector -->\n",
       "<style>\n",
       ".rendered_html {font-size: 1.2em; line-height: 150%;}\n",
       "div.prompt {min-width: 0ex; }\n",
       ".container {width:95% !important;}\n",
       "</style>\n"
      ],
      "text/plain": [
       "<IPython.core.display.HTML object>"
      ]
     },
     "metadata": {},
     "output_type": "display_data"
    }
   ],
   "source": [
    "%%HTML\n",
    "<!-- Mejorar visualización en proyector -->\n",
    "<style>\n",
    ".rendered_html {font-size: 1.2em; line-height: 150%;}\n",
    "div.prompt {min-width: 0ex; }\n",
    ".container {width:95% !important;}\n",
    "</style>"
   ]
  },
  {
   "attachments": {},
   "cell_type": "markdown",
   "metadata": {},
   "source": [
    "<h1 style=\"text-align:center\">Tarea 1 - Ecuaciones de movimiento de péndulo simple</h1>\n",
    "<h2 style=\"text-align:center\"> ACUS125: Aislamiento y Análisis de Vibraciones </h2>\n",
    "<h3 style=\"text-align:center\"> Primer semestre 2023 </h3>\n",
    "\n",
    "<p style=\"text-align:center\"> <b>Profesor </b></p>\n",
    "<p style=\"text-align:center\">Dr. Víctor Poblete R. <br>\n",
    "<a href=\"mailto:vpoblete@uach.cl\">vpoblete@uach.cl</a><br>\n",
    "\n",
    "<p style=\"text-align:center\"> <b>Ayudante </b></p>\n",
    "\n",
    "<p style=\"text-align:center\">Rafael Peñailillo H.<br>\n",
    "<a href=\"mailto:vpoblete@uach.cl\">rafael.penailillo@alumnos.uach.cl</a><br>\n"
   ]
  },
  {
   "attachments": {},
   "cell_type": "markdown",
   "metadata": {},
   "source": [
    "### 1. Plotear (graficar) la solución lineal y no lineal de un péndulo simple\n",
    "\n",
    "Recordar que las ecuaciones para cada caso son las siguientes:\n",
    "\n",
    "**Ecuación no lineal**\n",
    "$$\n",
    "\\begin{align*}\n",
    "\\ddot{\\theta}\\,+\\,\\frac{g}{L}\\,\\text{sen}(\\theta)\\,=\\,0\n",
    "\\end{align*}\n",
    "$$\n",
    "\n",
    "**Ecuación lineal**\n",
    "\n",
    "$$\n",
    "\\begin{align*}\n",
    "\\ddot{\\theta}\\,+\\,\\frac{g}{L}\\,\\theta\\,=\\,0\n",
    "\\end{align*}\n",
    "$$\n",
    "\n",
    "Con las siguientes condiciones iniciales $\\theta_{0}$ y $\\dot{\\theta_{0}}$:\n",
    "\n",
    "+ > > L = 1 m; g = 9.81 m/$s^2$; $\\theta_{0} = \\pi /3 = [60°]$; $\\dot{\\theta_{0}}=0$ (rad/s)\n",
    "\n",
    "Y recordando la **solución lineal**:\n",
    "\n",
    "$$\n",
    "\\begin{align*}\n",
    "\\theta (t) = \\theta_{0}\\cdot cos(\\omega_{0}t) + \\frac{\\dot{\\theta_{0}}}{\\omega_{0}}\\cdot sen(\\omega_{0}t)\n",
    "\\end{align*}\n",
    "$$\n"
   ]
  },
  {
   "cell_type": "code",
   "execution_count": null,
   "metadata": {},
   "outputs": [],
   "source": []
  },
  {
   "attachments": {},
   "cell_type": "markdown",
   "metadata": {},
   "source": [
    "### 2. Comparar los resultados obtenidos para cada solución"
   ]
  },
  {
   "cell_type": "code",
   "execution_count": null,
   "metadata": {},
   "outputs": [],
   "source": []
  },
  {
   "attachments": {},
   "cell_type": "markdown",
   "metadata": {},
   "source": [
    "### 3. Cuantificar el error entre estos dos resultados utilizando RMSE (raíz del error cuadrático medio)"
   ]
  },
  {
   "cell_type": "code",
   "execution_count": null,
   "metadata": {},
   "outputs": [],
   "source": []
  },
  {
   "attachments": {},
   "cell_type": "markdown",
   "metadata": {},
   "source": [
    "### 4. Construir un arreglo (vector) entre 0 y 90 grados para el desplazamiento angular tomando al menos 10 valores entre estos."
   ]
  },
  {
   "cell_type": "code",
   "execution_count": null,
   "metadata": {},
   "outputs": [],
   "source": []
  },
  {
   "attachments": {},
   "cell_type": "markdown",
   "metadata": {},
   "source": [
    "### 5. Para cada valor de $\\theta$, cuantificar el error y realizar un gráfico en que se muestre el error vs. $\\theta$ grados."
   ]
  },
  {
   "cell_type": "code",
   "execution_count": null,
   "metadata": {},
   "outputs": [],
   "source": []
  },
  {
   "attachments": {},
   "cell_type": "markdown",
   "metadata": {},
   "source": [
    "### 6. Utilizando el valor de $\\theta$ con el menor error, construir un nuevo arreglo de valores de $L$ entre $0.1$ a $100$ metros y repetir el procedimiento (para cada valor de $L$ cuantificar el error RMSE)"
   ]
  },
  {
   "cell_type": "code",
   "execution_count": null,
   "metadata": {},
   "outputs": [],
   "source": []
  },
  {
   "attachments": {},
   "cell_type": "markdown",
   "metadata": {},
   "source": [
    "### 7. Análisis y discusión de resultados"
   ]
  },
  {
   "cell_type": "markdown",
   "metadata": {},
   "source": []
  }
 ],
 "metadata": {
  "kernelspec": {
   "display_name": "info147",
   "language": "python",
   "name": "python3"
  },
  "language_info": {
   "codemirror_mode": {
    "name": "ipython",
    "version": 3
   },
   "file_extension": ".py",
   "mimetype": "text/x-python",
   "name": "python",
   "nbconvert_exporter": "python",
   "pygments_lexer": "ipython3",
   "version": "3.10.9"
  },
  "orig_nbformat": 4
 },
 "nbformat": 4,
 "nbformat_minor": 2
}
